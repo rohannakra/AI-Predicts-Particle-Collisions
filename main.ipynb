{
 "cells": [
  {
   "cell_type": "markdown",
   "metadata": {},
   "source": [
    "#### Import modules & prepare data"
   ]
  },
  {
   "cell_type": "code",
   "execution_count": 1,
   "metadata": {},
   "outputs": [
    {
     "name": "stdout",
     "output_type": "stream",
     "text": [
      "(1259300, 10, 10)\n",
      "(1259300,)\n"
     ]
    }
   ],
   "source": [
    "# Import sklearn/tensorflow modules.\r\n",
    "import tensorflow as tf\r\n",
    "import tensorflow_datasets as tfds\r\n",
    "from tensorflow.keras.utils import to_categorical\r\n",
    "from tensorflow.keras.models import Sequential\r\n",
    "from tensorflow.keras.layers import Conv2D, MaxPooling2D, Dense, Flatten\r\n",
    "from sklearn.model_selection import train_test_split\r\n",
    "from sklearn.preprocessing import StandardScaler\r\n",
    "\r\n",
    "# Import other modules.\r\n",
    "import numpy as np\r\n",
    "import pandas as pd\r\n",
    "import matplotlib.pyplot as plt\r\n",
    "import pickle\r\n",
    "from os import walk\r\n",
    "from time import sleep\r\n",
    "from IPython.display import clear_output\r\n",
    "%matplotlib inline\r\n",
    "\r\n",
    "# Data source: https://www.kaggle.com/stephenmugisha/particle-collisions\r\n",
    "\r\n",
    "_, _, files = next(walk('data'))\r\n",
    "\r\n",
    "target_names = {\r\n",
    "    '0': 'electron',    # Negatively charged particle that is a lepton  (doesn't take part in strong force).\r\n",
    "    '1': 'muon',    # Electron with 200 times more mass and makes up lots of cosmic radiation.\r\n",
    "    '2': 'pion',    # Meson (connects with strong force) that can be positive, negative, or neutral\r\n",
    "    '3': 'kaon',    # Pion with more mass.\r\n",
    "    '4': 'proton'    # Positively charged particle with 2 up quarks and 1 down quark.\r\n",
    "}\r\n",
    "\r\n",
    "# Check how the data is formatted/stored.\r\n",
    "file_test = open(f'data/{files[0]}', 'rb')\r\n",
    "file = pickle.load(file_test)\r\n",
    "\r\n",
    "print(file[0].shape)    # Group of 3000 images.\r\n",
    "print(file[0][0].shape)    # Check first image.\r\n",
    "print(file[1].shape)    # Group of 3000 targets.\r\n",
    "print(file[1][0])    #    Classified as 'pion.'\r\n",
    "\r\n",
    "# Collect all the data.\r\n",
    "data = []\r\n",
    "target = []\r\n",
    "\r\n",
    "for file in files:\r\n",
    "    file = open(f'data/{files[0]}', 'rb')\r\n",
    "    file =  pickle.load(file)\r\n",
    "\r\n",
    "    for sample, sample_target in zip(file[0], file[1]):\r\n",
    "        data.append(sample)\r\n",
    "        target.append(sample_target)\r\n",
    "\r\n",
    "data = np.array(data)\r\n",
    "target = np.array(target)\r\n",
    "\r\n",
    "sleep(7)\r\n",
    "clear_output()\r\n",
    "\r\n",
    "print(data.shape)\r\n",
    "print(target.shape)\r\n"
   ]
  },
  {
   "cell_type": "markdown",
   "metadata": {},
   "source": [
    "#### Data analysis"
   ]
  },
  {
   "cell_type": "code",
   "execution_count": 2,
   "metadata": {},
   "outputs": [
    {
     "name": "stdout",
     "output_type": "stream",
     "text": [
      "(944475, 10, 10, 1)\n",
      "(944475, 5)\n",
      "(314825, 10, 10, 1)\n",
      "(314825, 5)\n"
     ]
    },
    {
     "data": {
      "image/png": "[encoded data removed]",
      "text/plain": "<Figure size 648x432 with 6 Axes>"
     },
     "metadata": {},
     "output_type": "display_data"
    }
   ],
   "source": [
    "# Check for NaN values.\r\n",
    "print(np.isnan(np.sum(data)))    # -> False\r\n",
    "\r\n",
    "# Check range of values.\r\n",
    "print(np.max(data), np.min(data))    # -> 8, 0\r\n",
    "\r\n",
    "sleep(4)\r\n",
    "clear_output()\r\n",
    "\r\n",
    "# Edit target values to 0, 1, 2....\r\n",
    "new_target = []\r\n",
    "\r\n",
    "for tar in target:\r\n",
    "    if tar == 11:\r\n",
    "        new_target.append(0)\r\n",
    "    elif tar == 13:\r\n",
    "        new_target.append(1)\r\n",
    "    elif tar == 211:\r\n",
    "        new_target.append(2)\r\n",
    "    elif tar == 321:\r\n",
    "        new_target.append(3)\r\n",
    "    else:\r\n",
    "        new_target.append(4)\r\n",
    "    \r\n",
    "target = np.array(new_target)\r\n",
    "\r\n",
    "# Get indexes for each different target possibility.\r\n",
    "indexes = [\r\n",
    "    np.where(target == 0)[0][0],\r\n",
    "    np.where(target == 1)[0][0],\r\n",
    "    np.where(target == 2)[0][0],\r\n",
    "    np.where(target == 3)[0][0],\r\n",
    "    np.where(target == 4)[0][0],\r\n",
    "]\r\n",
    "\r\n",
    "samples = [data[index] for index in indexes]\r\n",
    "samples_target = [target_names[str(target[index])] for index in indexes]\r\n",
    "\r\n",
    "fig, axs = plt.subplots(2, 3, figsize=(9, 6), subplot_kw={\r\n",
    "    'yticks': (),\r\n",
    "    'xticks': ()\r\n",
    "})\r\n",
    "\r\n",
    "axs = [ax for ax in axs.flatten()]\r\n",
    "\r\n",
    "for sample, sample_target, ax in zip(samples, samples_target, axs):\r\n",
    "    ax.imshow(sample, cmap='binary')\r\n",
    "    ax.set_title(f'Sample Target {sample_target}')\r\n",
    "\r\n",
    "# Split the data\r\n",
    "X_train, X_test, y_train, y_test = train_test_split(data, target, stratify=target)\r\n",
    "\r\n",
    "# Change the train and test datasets.\r\n",
    "scaler = StandardScaler()\r\n",
    "\r\n",
    "# Reshape + change data\r\n",
    "X_train = X_train.reshape(X_train.shape[0], -1)\r\n",
    "X_test = X_test.reshape(X_test.shape[0], -1)\r\n",
    "\r\n",
    "# Scale and reshape data back to og form.\r\n",
    "X_train = (scaler.fit_transform(X_train)).reshape((X_train.shape[0], 10, 10, 1))\r\n",
    "X_test = (scaler.transform(X_test)).reshape((X_test.shape[0], 10, 10, 1))\r\n",
    "\r\n",
    "y_train = to_categorical(y_train)\r\n",
    "y_test = to_categorical(y_test)\r\n",
    "\r\n",
    "print(X_train.shape)\r\n",
    "print(y_train.shape)\r\n",
    "print(X_test.shape)\r\n",
    "print(y_test.shape)\r\n"
   ]
  },
  {
   "cell_type": "markdown",
   "metadata": {},
   "source": [
    "#### Create Model"
   ]
  },
  {
   "cell_type": "code",
   "execution_count": 3,
   "metadata": {},
   "outputs": [
    {
     "name": "stdout",
     "output_type": "stream",
     "text": [
      "0.7790433764457703\n",
      "0.7790455222129822\n"
     ]
    },
    {
     "data": {
      "text/plain": "Text(0.5, 1.0, 'Accuracy')"
     },
     "execution_count": 3,
     "metadata": {},
     "output_type": "execute_result"
    },
    {
     "data": {
      "image/png": "[encoded data removed]",
      "text/plain": "<Figure size 720x360 with 2 Axes>"
     },
     "metadata": {
      "needs_background": "light"
     },
     "output_type": "display_data"
    }
   ],
   "source": [
    "class Model(tf.keras.Model):\r\n",
    "    def __init__(self):\r\n",
    "        super(Model, self).__init__()\r\n",
    "\r\n",
    "        self.input_layers = [\r\n",
    "            MaxPooling2D((2, 2)),\r\n",
    "            Flatten()\r\n",
    "        ]\r\n",
    "\r\n",
    "        self.hidden_layers = [\r\n",
    "            Dense(50, activation='relu', kernel_regularizer='l2'),\r\n",
    "            Dense(50, activation='relu', kernel_regularizer='l2'),\r\n",
    "            Dense(50, activation='relu', kernel_regularizer='l2')\r\n",
    "        ]\r\n",
    "\r\n",
    "        self.output_layer = Dense(5, activation='softmax')\r\n",
    "    \r\n",
    "    def call(self, inputs):\r\n",
    "        h = self.input_layers[0](inputs)\r\n",
    "        h = self.input_layers[1](h)\r\n",
    "\r\n",
    "        for hidden_layer in self.hidden_layers:\r\n",
    "            h = hidden_layer(h)\r\n",
    "        \r\n",
    "        return self.output_layer(h)\r\n",
    "\r\n",
    "model = Model()\r\n",
    "\r\n",
    "model.build(input_shape=(1, 10, 10, 1))\r\n",
    "model.compile(optimizer='sgd', loss='categorical_crossentropy', metrics=['accuracy'])\r\n",
    "\r\n",
    "history = model.fit(X_train, y_train, epochs=3, batch_size=64).history\r\n",
    "\r\n",
    "sleep(4)\r\n",
    "clear_output()\r\n",
    "\r\n",
    "print(model.evaluate(X_train, y_train, verbose=False)[1])\r\n",
    "print(model.evaluate(X_test, y_test, verbose=False)[1])\r\n",
    "\r\n",
    "fig, (ax_1, ax_2) = plt.subplots(1, 2, figsize=(10, 5))\r\n",
    "\r\n",
    "ax_1.plot(range(3), history['loss'])\r\n",
    "ax_2.plot(range(3), history['accuracy'])\r\n",
    "\r\n",
    "ax_1.set_title('Loss')\r\n",
    "ax_2.set_title('Accuracy');\r\n"
   ]
  },
  {
   "cell_type": "markdown",
   "metadata": {},
   "source": [
    "#### Try quantum neural network"
   ]
  },
  {
   "cell_type": "code",
   "execution_count": 10,
   "metadata": {},
   "outputs": [
    {
     "ename": "ValueError",
     "evalue": "Can't convert non-rectangular Python sequence to Tensor.",
     "output_type": "error",
     "traceback": [
      "\u001b[1;31m---------------------------------------------------------------------------\u001b[0m",
      "\u001b[1;31mValueError\u001b[0m                                Traceback (most recent call last)",
      "\u001b[1;32m<ipython-input-10-fca19a2ba8a1>\u001b[0m in \u001b[0;36m<module>\u001b[1;34m\u001b[0m\n\u001b[0;32m     35\u001b[0m \u001b[0mtraining_set\u001b[0m \u001b[1;33m=\u001b[0m \u001b[0mtraining_set\u001b[0m\u001b[1;33m.\u001b[0m\u001b[0mas_numpy_iterator\u001b[0m\u001b[1;33m(\u001b[0m\u001b[1;33m)\u001b[0m\u001b[1;33m\u001b[0m\u001b[1;33m\u001b[0m\u001b[0m\n\u001b[0;32m     36\u001b[0m \u001b[1;33m\u001b[0m\u001b[0m\n\u001b[1;32m---> 37\u001b[1;33m \u001b[0mtraining_set\u001b[0m \u001b[1;33m=\u001b[0m \u001b[0mtf\u001b[0m\u001b[1;33m.\u001b[0m\u001b[0mconstant\u001b[0m\u001b[1;33m(\u001b[0m\u001b[1;33m(\u001b[0m\u001b[0mX_train\u001b[0m\u001b[1;33m,\u001b[0m \u001b[0my_train\u001b[0m\u001b[1;33m)\u001b[0m\u001b[1;33m)\u001b[0m\u001b[1;33m\u001b[0m\u001b[1;33m\u001b[0m\u001b[0m\n\u001b[0m\u001b[0;32m     38\u001b[0m \u001b[0mtraining_set\u001b[0m\u001b[1;33m.\u001b[0m\u001b[0mdata\u001b[0m \u001b[1;33m=\u001b[0m \u001b[0mX_train\u001b[0m\u001b[1;33m\u001b[0m\u001b[1;33m\u001b[0m\u001b[0m\n\u001b[0;32m     39\u001b[0m \u001b[0mtraining_set\u001b[0m\u001b[1;33m.\u001b[0m\u001b[0mtarget\u001b[0m \u001b[1;33m=\u001b[0m \u001b[0my_train\u001b[0m\u001b[1;33m\u001b[0m\u001b[1;33m\u001b[0m\u001b[0m\n",
      "\u001b[1;32m~\\anaconda3\\lib\\site-packages\\tensorflow\\python\\framework\\constant_op.py\u001b[0m in \u001b[0;36mconstant\u001b[1;34m(value, dtype, shape, name)\u001b[0m\n\u001b[0;32m    261\u001b[0m     \u001b[0mValueError\u001b[0m\u001b[1;33m:\u001b[0m \u001b[1;32mif\u001b[0m \u001b[0mcalled\u001b[0m \u001b[0mon\u001b[0m \u001b[0ma\u001b[0m \u001b[0msymbolic\u001b[0m \u001b[0mtensor\u001b[0m\u001b[1;33m.\u001b[0m\u001b[1;33m\u001b[0m\u001b[1;33m\u001b[0m\u001b[0m\n\u001b[0;32m    262\u001b[0m   \"\"\"\n\u001b[1;32m--> 263\u001b[1;33m   return _constant_impl(value, dtype, shape, name, verify_shape=False,\n\u001b[0m\u001b[0;32m    264\u001b[0m                         allow_broadcast=True)\n\u001b[0;32m    265\u001b[0m \u001b[1;33m\u001b[0m\u001b[0m\n",
      "\u001b[1;32m~\\anaconda3\\lib\\site-packages\\tensorflow\\python\\framework\\constant_op.py\u001b[0m in \u001b[0;36m_constant_impl\u001b[1;34m(value, dtype, shape, name, verify_shape, allow_broadcast)\u001b[0m\n\u001b[0;32m    273\u001b[0m       \u001b[1;32mwith\u001b[0m \u001b[0mtrace\u001b[0m\u001b[1;33m.\u001b[0m\u001b[0mTrace\u001b[0m\u001b[1;33m(\u001b[0m\u001b[1;34m\"tf.constant\"\u001b[0m\u001b[1;33m)\u001b[0m\u001b[1;33m:\u001b[0m\u001b[1;33m\u001b[0m\u001b[1;33m\u001b[0m\u001b[0m\n\u001b[0;32m    274\u001b[0m         \u001b[1;32mreturn\u001b[0m \u001b[0m_constant_eager_impl\u001b[0m\u001b[1;33m(\u001b[0m\u001b[0mctx\u001b[0m\u001b[1;33m,\u001b[0m \u001b[0mvalue\u001b[0m\u001b[1;33m,\u001b[0m \u001b[0mdtype\u001b[0m\u001b[1;33m,\u001b[0m \u001b[0mshape\u001b[0m\u001b[1;33m,\u001b[0m \u001b[0mverify_shape\u001b[0m\u001b[1;33m)\u001b[0m\u001b[1;33m\u001b[0m\u001b[1;33m\u001b[0m\u001b[0m\n\u001b[1;32m--> 275\u001b[1;33m     \u001b[1;32mreturn\u001b[0m \u001b[0m_constant_eager_impl\u001b[0m\u001b[1;33m(\u001b[0m\u001b[0mctx\u001b[0m\u001b[1;33m,\u001b[0m \u001b[0mvalue\u001b[0m\u001b[1;33m,\u001b[0m \u001b[0mdtype\u001b[0m\u001b[1;33m,\u001b[0m \u001b[0mshape\u001b[0m\u001b[1;33m,\u001b[0m \u001b[0mverify_shape\u001b[0m\u001b[1;33m)\u001b[0m\u001b[1;33m\u001b[0m\u001b[1;33m\u001b[0m\u001b[0m\n\u001b[0m\u001b[0;32m    276\u001b[0m \u001b[1;33m\u001b[0m\u001b[0m\n\u001b[0;32m    277\u001b[0m   \u001b[0mg\u001b[0m \u001b[1;33m=\u001b[0m \u001b[0mops\u001b[0m\u001b[1;33m.\u001b[0m\u001b[0mget_default_graph\u001b[0m\u001b[1;33m(\u001b[0m\u001b[1;33m)\u001b[0m\u001b[1;33m\u001b[0m\u001b[1;33m\u001b[0m\u001b[0m\n",
      "\u001b[1;32m~\\anaconda3\\lib\\site-packages\\tensorflow\\python\\framework\\constant_op.py\u001b[0m in \u001b[0;36m_constant_eager_impl\u001b[1;34m(ctx, value, dtype, shape, verify_shape)\u001b[0m\n\u001b[0;32m    298\u001b[0m \u001b[1;32mdef\u001b[0m \u001b[0m_constant_eager_impl\u001b[0m\u001b[1;33m(\u001b[0m\u001b[0mctx\u001b[0m\u001b[1;33m,\u001b[0m \u001b[0mvalue\u001b[0m\u001b[1;33m,\u001b[0m \u001b[0mdtype\u001b[0m\u001b[1;33m,\u001b[0m \u001b[0mshape\u001b[0m\u001b[1;33m,\u001b[0m \u001b[0mverify_shape\u001b[0m\u001b[1;33m)\u001b[0m\u001b[1;33m:\u001b[0m\u001b[1;33m\u001b[0m\u001b[1;33m\u001b[0m\u001b[0m\n\u001b[0;32m    299\u001b[0m   \u001b[1;34m\"\"\"Implementation of eager constant.\"\"\"\u001b[0m\u001b[1;33m\u001b[0m\u001b[1;33m\u001b[0m\u001b[0m\n\u001b[1;32m--> 300\u001b[1;33m   \u001b[0mt\u001b[0m \u001b[1;33m=\u001b[0m \u001b[0mconvert_to_eager_tensor\u001b[0m\u001b[1;33m(\u001b[0m\u001b[0mvalue\u001b[0m\u001b[1;33m,\u001b[0m \u001b[0mctx\u001b[0m\u001b[1;33m,\u001b[0m \u001b[0mdtype\u001b[0m\u001b[1;33m)\u001b[0m\u001b[1;33m\u001b[0m\u001b[1;33m\u001b[0m\u001b[0m\n\u001b[0m\u001b[0;32m    301\u001b[0m   \u001b[1;32mif\u001b[0m \u001b[0mshape\u001b[0m \u001b[1;32mis\u001b[0m \u001b[1;32mNone\u001b[0m\u001b[1;33m:\u001b[0m\u001b[1;33m\u001b[0m\u001b[1;33m\u001b[0m\u001b[0m\n\u001b[0;32m    302\u001b[0m     \u001b[1;32mreturn\u001b[0m \u001b[0mt\u001b[0m\u001b[1;33m\u001b[0m\u001b[1;33m\u001b[0m\u001b[0m\n",
      "\u001b[1;32m~\\anaconda3\\lib\\site-packages\\tensorflow\\python\\framework\\constant_op.py\u001b[0m in \u001b[0;36mconvert_to_eager_tensor\u001b[1;34m(value, ctx, dtype)\u001b[0m\n\u001b[0;32m     96\u001b[0m       \u001b[0mdtype\u001b[0m \u001b[1;33m=\u001b[0m \u001b[0mdtypes\u001b[0m\u001b[1;33m.\u001b[0m\u001b[0mas_dtype\u001b[0m\u001b[1;33m(\u001b[0m\u001b[0mdtype\u001b[0m\u001b[1;33m)\u001b[0m\u001b[1;33m.\u001b[0m\u001b[0mas_datatype_enum\u001b[0m\u001b[1;33m\u001b[0m\u001b[1;33m\u001b[0m\u001b[0m\n\u001b[0;32m     97\u001b[0m   \u001b[0mctx\u001b[0m\u001b[1;33m.\u001b[0m\u001b[0mensure_initialized\u001b[0m\u001b[1;33m(\u001b[0m\u001b[1;33m)\u001b[0m\u001b[1;33m\u001b[0m\u001b[1;33m\u001b[0m\u001b[0m\n\u001b[1;32m---> 98\u001b[1;33m   \u001b[1;32mreturn\u001b[0m \u001b[0mops\u001b[0m\u001b[1;33m.\u001b[0m\u001b[0mEagerTensor\u001b[0m\u001b[1;33m(\u001b[0m\u001b[0mvalue\u001b[0m\u001b[1;33m,\u001b[0m \u001b[0mctx\u001b[0m\u001b[1;33m.\u001b[0m\u001b[0mdevice_name\u001b[0m\u001b[1;33m,\u001b[0m \u001b[0mdtype\u001b[0m\u001b[1;33m)\u001b[0m\u001b[1;33m\u001b[0m\u001b[1;33m\u001b[0m\u001b[0m\n\u001b[0m\u001b[0;32m     99\u001b[0m \u001b[1;33m\u001b[0m\u001b[0m\n\u001b[0;32m    100\u001b[0m \u001b[1;33m\u001b[0m\u001b[0m\n",
      "\u001b[1;31mValueError\u001b[0m: Can't convert non-rectangular Python sequence to Tensor."
     ]
    }
   ],
   "source": [
    "import tensorflow_datasets as tfds\r\n",
    "# Get quantum circuit class.\r\n",
    "\r\n",
    "from quantum_circuit import *\r\n",
    "\r\n",
    "class Model(nn.Module):\r\n",
    "    def __init__(self):\r\n",
    "        super(Model, self).__init__()\r\n",
    "        self.conv1 = nn.Conv2d(1, 6, kernel_size=5)\r\n",
    "        self.conv2 = nn.Conv2d(6, 16, kernel_size=5)\r\n",
    "        self.dropout = nn.Dropout2d()\r\n",
    "        self.fc1 = nn.Linear(256, 64)\r\n",
    "        self.fc2 = nn.Linear(64, 1)\r\n",
    "        self.hybrid = Hybrid(qiskit.Aer.get_backend('qasm_simulator'), 100, np.pi / 2)\r\n",
    "\r\n",
    "    def forward(self, x):\r\n",
    "        x = F.relu(self.conv1(x))\r\n",
    "        x = F.max_pool2d(x, 2)\r\n",
    "        x = F.relu(self.conv2(x))\r\n",
    "        x = F.max_pool2d(x, 2)\r\n",
    "        x = self.dropout(x)\r\n",
    "        x = x.view(1, -1)\r\n",
    "        x = F.relu(self.fc1(x))\r\n",
    "        x = self.fc2(x)\r\n",
    "        x = self.hybrid(x)\r\n",
    "        return torch.cat((x, 1 - x), -1)\r\n",
    "\r\n",
    "model = Model()\r\n",
    "\r\n",
    "optimizer = optim.SGD(model.parameters(), lr=0.001)\r\n",
    "loss_func = nn.NLLLoss()\r\n",
    "loss_list = []\r\n",
    "\r\n",
    "training_set = tf.data.Dataset.from_tensor_slices((X_train, y_train))\r\n",
    "training_set = training_set.as_numpy_iterator()\r\n",
    "\r\n",
    "training_set = tf.constant((X_train, y_train))\r\n",
    "training_set.data = X_train\r\n",
    "training_set.target = y_train\r\n",
    "\r\n",
    "model.train()\r\n",
    "for epoch in range(20):\r\n",
    "    total_loss = []\r\n",
    "    for batch_idx, (data, target) in enumerate(train_loader):\r\n",
    "        optimizer.zero_grad()\r\n",
    "        # Forward pass\r\n",
    "        output = model(data)\r\n",
    "        # Calculating loss\r\n",
    "        loss = loss_func(output, target)\r\n",
    "        # Backward pass\r\n",
    "        loss.backward()\r\n",
    "        # Optimize the weights\r\n",
    "        optimizer.step()\r\n",
    "        \r\n",
    "        total_loss.append(loss.item())\r\n",
    "    loss_list.append(sum(total_loss)/len(total_loss))\r\n",
    "    print('Training [{:.0f}%]\\tLoss: {:.4f}'.format(\r\n",
    "        100. * (epoch + 1) / 20, loss_list[-1]))\r\n"
   ]
  }
 ],
 "metadata": {
  "kernelspec": {
   "display_name": "Python 3.8.8 64-bit (conda)",
   "name": "python388jvsc74a57bd0b3484043eee5ff5607422914000474778a896e23428dfc35313a8be46de07a70"
  },
  "language_info": {
   "codemirror_mode": {
    "name": "ipython",
    "version": 3
   },
   "file_extension": ".py",
   "mimetype": "text/x-python",
   "name": "python",
   "nbconvert_exporter": "python",
   "pygments_lexer": "ipython3",
   "version": "3.8.8"
  },
  "orig_nbformat": 2
 },
 "nbformat": 4,
 "nbformat_minor": 2
}