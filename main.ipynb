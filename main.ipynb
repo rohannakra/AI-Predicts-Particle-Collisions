{
 "cells": [
  {
   "cell_type": "markdown",
   "metadata": {},
   "source": [
    "#### Import modules & prepare data"
   ]
  },
  {
   "cell_type": "code",
   "execution_count": 1,
   "metadata": {},
   "outputs": [
    {
     "name": "stdout",
     "output_type": "stream",
     "text": [
      "(1259300, 10, 10)\n",
      "(1259300,)\n"
     ]
    }
   ],
   "source": [
    "# Import sklearn/tensorflow modules.\n",
    "import tensorflow as tf\n",
    "import tensorflow_datasets as tfds\n",
    "from tensorflow.keras.utils import to_categorical\n",
    "from tensorflow.keras.models import Sequential\n",
    "from tensorflow.keras.layers import Conv2D, MaxPooling2D, Dense, Flatten\n",
    "from sklearn.model_selection import train_test_split\n",
    "from sklearn.preprocessing import StandardScaler\n",
    "\n",
    "# Import other modules.\n",
    "import numpy as np\n",
    "import pandas as pd\n",
    "import matplotlib.pyplot as plt\n",
    "import pickle\n",
    "from os import walk\n",
    "from time import sleep\n",
    "from IPython.display import clear_output\n",
    "%matplotlib inline\n",
    "\n",
    "# Data source: https://www.kaggle.com/stephenmugisha/particle-collisions\n",
    "\n",
    "_, _, files = next(walk('data'))\n",
    "\n",
    "target_names = {\n",
    "    '0': 'electron',    # Negatively charged particle that is a lepton  (doesn't take part in strong force).\n",
    "    '1': 'muon',    # Electron with 200 times more mass and makes up lots of cosmic radiation.\n",
    "    '2': 'pion',    # Meson (connects with strong force) that can be positive, negative, or neutral\n",
    "    '3': 'kaon',    # Pion with more mass.\n",
    "    '4': 'proton'    # Positively charged particle with 2 up quarks and 1 down quark.\n",
    "}\n",
    "\n",
    "# Check how the data is formatted/stored.\n",
    "file_test = open(f'data/{files[0]}', 'rb')\n",
    "file = pickle.load(file_test)\n",
    "\n",
    "print(file[0].shape)    # Group of 3000 images.\n",
    "print(file[0][0].shape)    # Check first image.\n",
    "print(file[1].shape)    # Group of 3000 targets.\n",
    "print(file[1][0])    #    Classified as 'pion.'\n",
    "\n",
    "# Collect all the data.\n",
    "data = []\n",
    "target = []\n",
    "\n",
    "for file in files:\n",
    "    file = open(f'data/{files[0]}', 'rb')\n",
    "    file =  pickle.load(file)\n",
    "\n",
    "    for sample, sample_target in zip(file[0], file[1]):\n",
    "        data.append(sample)\n",
    "        target.append(sample_target)\n",
    "\n",
    "data = np.array(data)\n",
    "target = np.array(target)\n",
    "\n",
    "sleep(7)\n",
    "clear_output()\n",
    "\n",
    "print(data.shape)\n",
    "print(target.shape)\n"
   ]
  },
  {
   "cell_type": "markdown",
   "metadata": {},
   "source": [
    "#### Data analysis"
   ]
  },
  {
   "cell_type": "code",
   "execution_count": 2,
   "metadata": {},
   "outputs": [
    {
     "name": "stdout",
     "output_type": "stream",
     "text": [
      "(944475, 10, 10, 1)\n",
      "(944475, 5)\n",
      "(314825, 10, 10, 1)\n",
      "(314825, 5)\n"
     ]
    },
    {
     "data": {
      "image/png": "[encoded data removed]",
      "text/plain": [
       "<Figure size 648x432 with 6 Axes>"
      ]
     },
     "metadata": {},
     "output_type": "display_data"
    }
   ],
   "source": [
    "# Check for NaN values.\n",
    "print(np.isnan(np.sum(data)))    # -> False\n",
    "\n",
    "# Check range of values.\n",
    "print(np.max(data), np.min(data))    # -> 8, 0\n",
    "\n",
    "sleep(4)\n",
    "clear_output()\n",
    "\n",
    "# Edit target values to 0, 1, 2....\n",
    "new_target = []\n",
    "\n",
    "for tar in target:\n",
    "    if tar == 11:\n",
    "        new_target.append(0)\n",
    "    elif tar == 13:\n",
    "        new_target.append(1)\n",
    "    elif tar == 211:\n",
    "        new_target.append(2)\n",
    "    elif tar == 321:\n",
    "        new_target.append(3)\n",
    "    else:\n",
    "        new_target.append(4)\n",
    "    \n",
    "target = np.array(new_target)\n",
    "\n",
    "# Get indexes for each different target possibility.\n",
    "indexes = [\n",
    "    np.where(target == 0)[0][0],\n",
    "    np.where(target == 1)[0][0],\n",
    "    np.where(target == 2)[0][0],\n",
    "    np.where(target == 3)[0][0],\n",
    "    np.where(target == 4)[0][0],\n",
    "]\n",
    "\n",
    "samples = [data[index] for index in indexes]\n",
    "samples_target = [target_names[str(target[index])] for index in indexes]\n",
    "\n",
    "fig, axs = plt.subplots(2, 3, figsize=(9, 6), subplot_kw={\n",
    "    'yticks': (),\n",
    "    'xticks': ()\n",
    "})\n",
    "\n",
    "axs = [ax for ax in axs.flatten()]\n",
    "\n",
    "for sample, sample_target, ax in zip(samples, samples_target, axs):\n",
    "    ax.imshow(sample, cmap='binary')\n",
    "    ax.set_title(f'Sample Target {sample_target}')\n",
    "\n",
    "# Split the data\n",
    "X_train, X_test, y_train, y_test = train_test_split(data, target, stratify=target)\n",
    "\n",
    "# Change the train and test datasets.\n",
    "scaler = StandardScaler()\n",
    "\n",
    "# Reshape + change data\n",
    "X_train = X_train.reshape(X_train.shape[0], -1)\n",
    "X_test = X_test.reshape(X_test.shape[0], -1)\n",
    "\n",
    "# Scale and reshape data back to og form.\n",
    "X_train = (scaler.fit_transform(X_train)).reshape((X_train.shape[0], 10, 10, 1))\n",
    "X_test = (scaler.transform(X_test)).reshape((X_test.shape[0], 10, 10, 1))\n",
    "\n",
    "y_train = to_categorical(y_train)\n",
    "y_test = to_categorical(y_test)\n",
    "\n",
    "print(X_train.shape)\n",
    "print(y_train.shape)\n",
    "print(X_test.shape)\n",
    "print(y_test.shape)\n"
   ]
  },
  {
   "cell_type": "markdown",
   "metadata": {},
   "source": [
    "#### Create Model"
   ]
  },
  {
   "cell_type": "code",
   "execution_count": 3,
   "metadata": {},
   "outputs": [
    {
     "name": "stdout",
     "output_type": "stream",
     "text": [
      "0.7790433764457703\n",
      "0.7790455222129822\n"
     ]
    },
    {
     "data": {
      "text/plain": [
       "Text(0.5, 1.0, 'Accuracy')"
      ]
     },
     "execution_count": 3,
     "metadata": {},
     "output_type": "execute_result"
    },
    {
     "data": {
      "image/png": "[encoded data removed]",
      "text/plain": [
       "<Figure size 720x360 with 2 Axes>"
      ]
     },
     "metadata": {
      "needs_background": "light"
     },
     "output_type": "display_data"
    }
   ],
   "source": [
    "class Model(tf.keras.Model):\n",
    "    def __init__(self):\n",
    "        super(Model, self).__init__()\n",
    "\n",
    "        self.input_layers = [\n",
    "            MaxPooling2D((2, 2)),\n",
    "            Flatten()\n",
    "        ]\n",
    "\n",
    "        self.hidden_layers = [\n",
    "            Dense(50, activation='relu', kernel_regularizer='l2'),\n",
    "            Dense(50, activation='relu', kernel_regularizer='l2'),\n",
    "            Dense(50, activation='relu', kernel_regularizer='l2')\n",
    "        ]\n",
    "\n",
    "        self.output_layer = Dense(5, activation='softmax')\n",
    "    \n",
    "    def call(self, inputs):\n",
    "        h = self.input_layers[0](inputs)\n",
    "        h = self.input_layers[1](h)\n",
    "\n",
    "        for hidden_layer in self.hidden_layers:\n",
    "            h = hidden_layer(h)\n",
    "        \n",
    "        return self.output_layer(h)\n",
    "\n",
    "model = Model()\n",
    "\n",
    "model.build(input_shape=(1, 10, 10, 1))\n",
    "model.compile(optimizer='sgd', loss='categorical_crossentropy', metrics=['accuracy'])\n",
    "\n",
    "history = model.fit(X_train, y_train, epochs=3, batch_size=64).history\n",
    "\n",
    "sleep(4)\n",
    "clear_output()\n",
    "\n",
    "print(model.evaluate(X_train, y_train, verbose=False)[1])\n",
    "print(model.evaluate(X_test, y_test, verbose=False)[1])\n",
    "\n",
    "fig, (ax_1, ax_2) = plt.subplots(1, 2, figsize=(10, 5))\n",
    "\n",
    "ax_1.plot(range(3), history['loss'])\n",
    "ax_2.plot(range(3), history['accuracy'])\n",
    "\n",
    "ax_1.set_title('Loss')\n",
    "ax_2.set_title('Accuracy');\n"
   ]
  },
  {
   "cell_type": "markdown",
   "metadata": {},
   "source": [
    "#### Conclussion:\n",
    "The algorithm shows that there is some pattern in predicting particle collisions, but still some inconsistency."
   ]
  }
 ],
 "metadata": {
  "kernelspec": {
   "display_name": "Python 3.8.8 64-bit (conda)",
   "name": "python388jvsc74a57bd0b3484043eee5ff5607422914000474778a896e23428dfc35313a8be46de07a70"
  },
  "language_info": {
   "codemirror_mode": {
    "name": "ipython",
    "version": 3
   },
   "file_extension": ".py",
   "mimetype": "text/x-python",
   "name": "python",
   "nbconvert_exporter": "python",
   "pygments_lexer": "ipython3",
   "version": "3.8.8"
  },
  "orig_nbformat": 2
 },
 "nbformat": 4,
 "nbformat_minor": 2
}
