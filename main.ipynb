{
 "cells": [
  {
   "cell_type": "markdown",
   "metadata": {},
   "source": [
    "#### Import modules & prepare data"
   ]
  },
  {
   "cell_type": "code",
   "execution_count": 45,
   "metadata": {},
   "outputs": [
    {
     "name": "stdout",
     "output_type": "stream",
     "text": [
      "original data.shape: (1259300, 10, 10)\n",
      "original target.shape: (1259300,)\n",
      "\n",
      "electron.shape: (3150, 10, 10), (3150,)\n",
      "muon.shape: (700, 10, 10), (700,)\n",
      "pion.shape: (981050, 10, 10), (981050,)\n",
      "kaon.shape: (160300, 10, 10), (160300,)\n",
      "proton.shape: (114100, 10, 10), (114100,)\n"
     ]
    }
   ],
   "source": [
    "# Import sklearn/tensorflow modules.\n",
    "import tensorflow as tf\n",
    "import tensorflow_datasets as tfds\n",
    "from tensorflow.keras.utils import to_categorical\n",
    "from tensorflow.keras.models import Sequential\n",
    "from tensorflow.keras.layers import Conv2D, MaxPooling2D, Dense, Flatten\n",
    "from sklearn.model_selection import train_test_split\n",
    "from sklearn.preprocessing import StandardScaler\n",
    "\n",
    "# Import other modules.\n",
    "import numpy as np\n",
    "import pandas as pd\n",
    "import matplotlib.pyplot as plt\n",
    "import pickle\n",
    "from os import walk\n",
    "from time import sleep\n",
    "from IPython.display import clear_output\n",
    "%matplotlib inline\n",
    "\n",
    "# Data source: https://www.kaggle.com/stephenmugisha/particle-collisions\n",
    "\n",
    "_, _, files = next(walk('data'))\n",
    "\n",
    "target_names = {\n",
    "    '0': 'electron',    # Negatively charged particle that is a lepton  (doesn't take part in strong force).\n",
    "    '1': 'muon',    # Electron with 200 times more mass and makes up lots of cosmic radiation.\n",
    "    '2': 'pion',    # Meson (connects with strong force) that can be positive, negative, or neutral\n",
    "    '3': 'kaon',    # Pion with more mass.\n",
    "    '4': 'proton'    # Positively charged particle with 2 up quarks and 1 down quark.\n",
    "}\n",
    "\n",
    "# Check how the data is formatted/stored.\n",
    "file_test = open(f'data/{files[0]}', 'rb')\n",
    "file = pickle.load(file_test)\n",
    "\n",
    "print(file[0].shape)    # Group of 3000 images.\n",
    "print(file[0][0].shape)    # Check first image.\n",
    "print(file[1].shape)    # Group of 3000 targets.\n",
    "print(file[1][0])    # Classified as 'pion.'\n",
    "\n",
    "# Collect all the data.\n",
    "data = []\n",
    "target = []\n",
    "\n",
    "for file in files:\n",
    "    file = open(f'data/{files[0]}', 'rb')\n",
    "    file =  pickle.load(file)\n",
    "\n",
    "    for sample, sample_target in zip(file[0], file[1]):\n",
    "        data.append(sample)\n",
    "        target.append(sample_target)\n",
    "\n",
    "data = np.array(data)\n",
    "target = np.array(target)\n",
    "\n",
    "sleep(7)\n",
    "clear_output()\n",
    "\n",
    "print(f'original data.shape: {data.shape}')\n",
    "print(f'original target.shape: {target.shape}\\n')\n",
    "\n",
    "# Edit target values to 0, 1, 2...\n",
    "new_target = []\n",
    "\n",
    "for tar in target:\n",
    "    if tar == 11:\n",
    "        new_target.append(0)\n",
    "    elif tar == 13:\n",
    "        new_target.append(1)\n",
    "    elif tar == 211:\n",
    "        new_target.append(2)\n",
    "    elif tar == 321:\n",
    "        new_target.append(3)\n",
    "    else:\n",
    "        new_target.append(4)\n",
    "    \n",
    "target = np.array(new_target)\n",
    "\n",
    "for i in range(5):\n",
    "    particle_indexes = np.where(target == i)[0]\n",
    "\n",
    "    data_modified = data[particle_indexes]\n",
    "    target_modified = target[particle_indexes]\n",
    "    \n",
    "    print(f'{target_names[str(i)]}.shape: {data_modified.shape}, {target_modified.shape}')\n",
    "\n",
    "# NOTE: through the above code, we find there are inconsistencies in the data (less samples for one particle but lots of samples in another)\n"
   ]
  },
  {
   "cell_type": "markdown",
   "metadata": {},
   "source": [
    "#### Reshaping data (to make even)"
   ]
  },
  {
   "cell_type": "code",
   "execution_count": 46,
   "metadata": {},
   "outputs": [
    {
     "name": "stdout",
     "output_type": "stream",
     "text": [
      "even data.shape: (3500, 10, 10)\n",
      "even target.shape: (3500,)\n"
     ]
    }
   ],
   "source": [
    "muon_indexes = np.where(target == 1)[0]    # since this has least # of samples... use this as limiter\n",
    "\n",
    "data_new, target_new = (data[muon_indexes], target[muon_indexes])\n",
    "\n",
    "for i in [0, 2, 3, 4]:\n",
    "    particle_indexes = np.where(target == i)[0]\n",
    "    data_modified = (data[particle_indexes])[:700]    # limit to 700 samples for each particle.\n",
    "    target_modified = (target[particle_indexes])[:700]\n",
    "\n",
    "    data_new = np.append(data_new, data_modified, axis=0)\n",
    "    target_new = np.append(target_new, target_modified)\n",
    "\n",
    "data_new = np.array(data_new)\n",
    "target_new = np.array(target_new)\n",
    "\n",
    "print(f'even data.shape: {data_new.shape}')\n",
    "print(f'even target.shape: {target_new.shape}')\n",
    "\n",
    "data = data_new\n",
    "target = target_new\n"
   ]
  },
  {
   "cell_type": "markdown",
   "metadata": {},
   "source": [
    "#### Data analysis"
   ]
  },
  {
   "cell_type": "code",
   "execution_count": 47,
   "metadata": {},
   "outputs": [
    {
     "name": "stdout",
     "output_type": "stream",
     "text": [
      "X_train.shape: (2625, 10, 10, 1)\n",
      "y_train.shape: (2625, 5)\n",
      "X_test.shape: (875, 10, 10, 1)\n",
      "y_test.shape: (875, 5)\n"
     ]
    },
    {
     "data": {
      "image/png": "[encoded data removed]",
      "text/plain": [
       "<Figure size 648x432 with 6 Axes>"
      ]
     },
     "metadata": {},
     "output_type": "display_data"
    }
   ],
   "source": [
    "# Check for NaN values.\n",
    "print(np.isnan(np.sum(data)))    # -> False\n",
    "\n",
    "# Check range of values.\n",
    "print(np.max(data), np.min(data))    # -> 8, 0\n",
    "\n",
    "sleep(4)\n",
    "clear_output()\n",
    "\n",
    "# Get indexes for each different target possibility.\n",
    "indexes = [\n",
    "    np.where(target == 0)[0][0],\n",
    "    np.where(target == 1)[0][0],\n",
    "    np.where(target == 2)[0][0],\n",
    "    np.where(target == 3)[0][0],\n",
    "    np.where(target == 4)[0][0],\n",
    "]\n",
    "\n",
    "samples = [data[index] for index in indexes]\n",
    "samples_target = [target_names[str(target[index])] for index in indexes]\n",
    "\n",
    "fig, axs = plt.subplots(2, 3, figsize=(9, 6), subplot_kw={\n",
    "    'yticks': (),\n",
    "    'xticks': ()\n",
    "})\n",
    "\n",
    "axs = [ax for ax in axs.flatten()]\n",
    "\n",
    "for sample, sample_target, ax in zip(samples, samples_target, axs):\n",
    "    ax.imshow(sample, cmap='binary')\n",
    "    ax.set_title(str(sample_target))\n",
    "\n",
    "# Split the data\n",
    "X_train, X_test, y_train, y_test = train_test_split(data, target, stratify=target)\n",
    "\n",
    "# Change the train and test datasets.\n",
    "scaler = StandardScaler()\n",
    "\n",
    "# Reshape + change data\n",
    "X_train = X_train.reshape(X_train.shape[0], -1)\n",
    "X_test = X_test.reshape(X_test.shape[0], -1)\n",
    "\n",
    "# Scale and reshape data back to og form.\n",
    "X_train = (scaler.fit_transform(X_train)).reshape((X_train.shape[0], 10, 10, 1))\n",
    "X_test = (scaler.transform(X_test)).reshape((X_test.shape[0], 10, 10, 1))\n",
    "\n",
    "y_train = to_categorical(y_train)\n",
    "y_test = to_categorical(y_test)\n",
    "\n",
    "print(f'X_train.shape: {X_train.shape}')\n",
    "print(f'y_train.shape: {y_train.shape}')\n",
    "print(f'X_test.shape: {X_test.shape}')\n",
    "print(f'y_test.shape: {y_test.shape}')\n"
   ]
  },
  {
   "cell_type": "markdown",
   "metadata": {},
   "source": [
    "#### Create Model"
   ]
  },
  {
   "cell_type": "code",
   "execution_count": 48,
   "metadata": {},
   "outputs": [
    {
     "name": "stdout",
     "output_type": "stream",
     "text": [
      "Train accuracy: 38.5%\n",
      "Test accuracy: 37.8%\n"
     ]
    },
    {
     "data": {
      "image/png": "[encoded data removed]",
      "text/plain": [
       "<Figure size 720x360 with 2 Axes>"
      ]
     },
     "metadata": {
      "needs_background": "light"
     },
     "output_type": "display_data"
    }
   ],
   "source": [
    "class Model(tf.keras.Model):\n",
    "    def __init__(self):\n",
    "        super(Model, self).__init__()\n",
    "\n",
    "        self.input_layers = [\n",
    "            MaxPooling2D((2, 2)),\n",
    "            Flatten()\n",
    "        ]\n",
    "\n",
    "        self.hidden_layers = [\n",
    "            Dense(19, activation='relu', kernel_regularizer='l2'),\n",
    "            Dense(19, activation='relu', kernel_regularizer='l2')\n",
    "        ]\n",
    "\n",
    "        self.output_layer = Dense(5, activation='softmax')\n",
    "    \n",
    "    def call(self, inputs):\n",
    "        h = self.input_layers[0](inputs)\n",
    "        h = self.input_layers[1](h)\n",
    "\n",
    "        for hidden_layer in self.hidden_layers:\n",
    "            h = hidden_layer(h)\n",
    "        \n",
    "        return self.output_layer(h)\n",
    "\n",
    "model = Model()\n",
    "\n",
    "model.build(input_shape=(1, 10, 10, 1))\n",
    "model.compile(optimizer='sgd', loss='categorical_crossentropy', metrics=['accuracy'])\n",
    "\n",
    "history = model.fit(X_train, y_train, epochs=3, batch_size=64).history\n",
    "\n",
    "sleep(4)\n",
    "clear_output()\n",
    "\n",
    "print(f'Train accuracy: {model.evaluate(X_train, y_train, verbose=False)[1]*100:.1f}%')\n",
    "print(f'Test accuracy: {model.evaluate(X_test, y_test, verbose=False)[1]*100:.1f}%')\n",
    "\n",
    "fig, (ax_1, ax_2) = plt.subplots(1, 2, figsize=(10, 5))\n",
    "\n",
    "ax_1.plot(range(3), history['loss'])\n",
    "ax_2.plot(range(3), history['accuracy'])\n",
    "\n",
    "ax_1.set_title('Loss')\n",
    "ax_2.set_title('Accuracy');\n"
   ]
  },
  {
   "cell_type": "markdown",
   "metadata": {},
   "source": [
    "### More data analysis"
   ]
  },
  {
   "cell_type": "code",
   "execution_count": 49,
   "metadata": {},
   "outputs": [
    {
     "name": "stdout",
     "output_type": "stream",
     "text": [
      "electron accuracy: 34.3%\n",
      "muon accuracy: 100.0%\n",
      "pion accuracy: 20.0%\n",
      "kaon accuracy: 18.3%\n",
      "proton accuracy: 16.6%\n"
     ]
    }
   ],
   "source": [
    "for i in range(5):\n",
    "    int_y_test = np.array([np.argmax(y, axis=None, out=None) for y in y_test])    # convert back to integer for comparison.\n",
    "    particle_indexes = np.where(int_y_test == i)    # gives indexes for all electron, muon, etc testcases...\n",
    "\n",
    "    X_test_modified = X_test[particle_indexes]\n",
    "    y_test_modified = y_test[particle_indexes]\n",
    "\n",
    "    print(f'{target_names[str(i)]} accuracy: {model.evaluate(X_test_modified, y_test_modified, verbose=False)[1]*100:.1f}%')\n"
   ]
  },
  {
   "cell_type": "markdown",
   "metadata": {},
   "source": [
    "#### Test Results\n",
    "<img src='images/test_1_(19).png'>\n",
    "<img src='images/test 2 (19).png'></br>\n",
    "difference between one test and another (inconsistencies)"
   ]
  },
  {
   "cell_type": "markdown",
   "metadata": {},
   "source": [
    "#### Conclusion:\n",
    "* The algorithm shows some promise for some particles, but little for others.\n",
    "    * muon could have 100% accuracy because of its mass... has less quantum effect compared to others.\n",
    "    * electron could be low because of quantum effects\n",
    "    * proton is actually pretty consistent.\n",
    "    * out of mesons, kaon and proton lowest while pion higher (because of higher mass than other mesons)\n",
    "    * next steps, find reason for fluctuations in percentages and relationships between particles considering their properties."
   ]
  },
  {
   "cell_type": "markdown",
   "metadata": {},
   "source": [
    "#### Graph relationship between sample size and accuracy"
   ]
  },
  {
   "cell_type": "code",
   "execution_count": 50,
   "metadata": {},
   "outputs": [
    {
     "data": {
      "text/plain": [
       "Text(0, 0.5, 'accuracy %')"
      ]
     },
     "execution_count": 50,
     "metadata": {},
     "output_type": "execute_result"
    },
    {
     "data": {
      "image/png": "[encoded data removed]",
      "text/plain": [
       "<Figure size 432x288 with 1 Axes>"
      ]
     },
     "metadata": {
      "needs_background": "light"
     },
     "output_type": "display_data"
    }
   ],
   "source": [
    "sample_numbers = list(range(50, 701, 50))    # This will be the x\n",
    "accuracy = []\n",
    "\n",
    "for sample_number in sample_numbers:    # start at 50 samples... increase from there.\n",
    "    starting_indexes = np.where(target == 0)[0]\n",
    "    data_modified = data[starting_indexes][:sample_number]\n",
    "    target_modified = (target[particle_indexes])[:sample_number]\n",
    "\n",
    "    for i in range(1, 5):\n",
    "        particle_indexes = np.where(target == i)[0]\n",
    "        data_modified_1 = (data[particle_indexes])[:sample_number]\n",
    "        target_modified_1 = (target[particle_indexes])[:sample_number]\n",
    "\n",
    "        data_modified = np.append(data_modified, data_modified_1, axis=0)\n",
    "        target_modified = np.append(target_modified, target_modified_1)\n",
    "\n",
    "        \n",
    "        scaler = StandardScaler()\n",
    "        data_modified_scaled = data_modified.reshape(data_modified.shape[0], -1)\n",
    "        data_modified_scaled = (scaler.fit_transform(data_modified_scaled)).reshape(data_modified_scaled.shape[0], 10, 10, 1)\n",
    "\n",
    "        target_modified_scaled = to_categorical(target_modified)\n",
    "    \n",
    "    result = model.evaluate(data_modified_scaled, target_modified_scaled, verbose=False)[1]*100\n",
    "    accuracy.append(result)\n",
    "\n",
    "# Plot results.\n",
    "plt.plot(sample_numbers, accuracy)\n",
    "plt.title('Accuracy by Sample Size')\n",
    "plt.xlabel('sample #')\n",
    "plt.ylabel('accuracy %')\n"
   ]
  },
  {
   "cell_type": "markdown",
   "metadata": {},
   "source": [
    "#### 5 Test Runs:\n",
    "<img src='images/accuracy_sample_test1.png'>\n",
    "<img src='images/accuracy_sample_test2.png'>\n",
    "<img src='images/accuracy_sample_test3.png'>\n",
    "<img src='images/accuracy_sample_test4.png'>\n",
    "<img src='images/accuracy_sample_test5.png'>"
   ]
  }
 ],
 "metadata": {
  "kernelspec": {
   "display_name": "Python 3.9.12 ('base')",
   "language": "python",
   "name": "python3"
  },
  "language_info": {
   "codemirror_mode": {
    "name": "ipython",
    "version": 3
   },
   "file_extension": ".py",
   "mimetype": "text/x-python",
   "name": "python",
   "nbconvert_exporter": "python",
   "pygments_lexer": "ipython3",
   "version": "3.9.12"
  },
  "orig_nbformat": 2,
  "vscode": {
   "interpreter": {
    "hash": "7b8ec01fe1ca8fb45588a4ccd1c70e5bbb495e4fae5c72e85a541e07ce265118"
   }
  }
 },
 "nbformat": 4,
 "nbformat_minor": 2
}
